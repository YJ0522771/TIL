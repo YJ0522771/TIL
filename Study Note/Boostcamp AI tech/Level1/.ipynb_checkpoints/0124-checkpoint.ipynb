{
 "cells": [
  {
   "cell_type": "code",
   "execution_count": 4,
   "id": "ff6b1148",
   "metadata": {},
   "outputs": [],
   "source": [
    "import numpy as np\n",
    "import torch"
   ]
  },
  {
   "cell_type": "markdown",
   "id": "94b34018",
   "metadata": {},
   "source": [
    "# PyTorch Basics"
   ]
  },
  {
   "cell_type": "markdown",
   "id": "fa25fa42",
   "metadata": {},
   "source": [
    "## PyTorch Operations"
   ]
  },
  {
   "cell_type": "code",
   "execution_count": 5,
   "id": "d7c61d5d",
   "metadata": {},
   "outputs": [
    {
     "data": {
      "text/plain": [
       "array([[0, 1, 2, 3, 4],\n",
       "       [5, 6, 7, 8, 9]])"
      ]
     },
     "execution_count": 5,
     "metadata": {},
     "output_type": "execute_result"
    }
   ],
   "source": [
    "n_arr = np.arange(10).reshape(2, 5)\n",
    "n_arr"
   ]
  },
  {
   "cell_type": "code",
   "execution_count": 6,
   "id": "7fbbe91b",
   "metadata": {},
   "outputs": [
    {
     "data": {
      "text/plain": [
       "tensor([[0., 1., 2., 3., 4.],\n",
       "        [5., 6., 7., 8., 9.]])"
      ]
     },
     "execution_count": 6,
     "metadata": {},
     "output_type": "execute_result"
    }
   ],
   "source": [
    "t_arr = torch.FloatTensor(n_arr)\n",
    "t_arr"
   ]
  },
  {
   "cell_type": "code",
   "execution_count": 7,
   "id": "dc9e5eb6",
   "metadata": {},
   "outputs": [
    {
     "name": "stdout",
     "output_type": "stream",
     "text": [
      "2\n",
      "torch.Size([2, 5])\n"
     ]
    }
   ],
   "source": [
    "print(t_arr.ndim)\n",
    "print(t_arr.shape)"
   ]
  },
  {
   "cell_type": "code",
   "execution_count": 12,
   "id": "b7adeaf5",
   "metadata": {},
   "outputs": [
    {
     "data": {
      "text/plain": [
       "tensor([[0, 1, 2, 3, 4],\n",
       "        [5, 6, 7, 8, 9]], dtype=torch.int32)"
      ]
     },
     "execution_count": 12,
     "metadata": {},
     "output_type": "execute_result"
    }
   ],
   "source": [
    "torch.from_numpy(n_arr)\n",
    "# torch.tensor(n_arr)"
   ]
  },
  {
   "cell_type": "code",
   "execution_count": 15,
   "id": "763aaa2d",
   "metadata": {},
   "outputs": [
    {
     "data": {
      "text/plain": [
       "device(type='cpu')"
      ]
     },
     "execution_count": 15,
     "metadata": {},
     "output_type": "execute_result"
    }
   ],
   "source": [
    "# tensor가 올라가 있는 디바이스 확인 가능\n",
    "t_arr.device"
   ]
  },
  {
   "cell_type": "code",
   "execution_count": 17,
   "id": "838a8d46",
   "metadata": {},
   "outputs": [
    {
     "data": {
      "text/plain": [
       "False"
      ]
     },
     "execution_count": 17,
     "metadata": {},
     "output_type": "execute_result"
    }
   ],
   "source": [
    "torch.cuda.is_available()"
   ]
  },
  {
   "cell_type": "code",
   "execution_count": 18,
   "id": "7c69da36",
   "metadata": {},
   "outputs": [
    {
     "data": {
      "text/plain": [
       "tensor([[[0.3650, 0.1612, 0.0234, 0.2243],\n",
       "         [0.6144, 0.9675, 0.3989, 0.8552],\n",
       "         [0.3742, 0.1511, 0.7356, 0.6841]],\n",
       "\n",
       "        [[0.0943, 0.9228, 0.9513, 0.0889],\n",
       "         [0.1429, 0.1633, 0.8017, 0.3099],\n",
       "         [0.1879, 0.4927, 0.6683, 0.3731]],\n",
       "\n",
       "        [[0.6167, 0.4373, 0.0965, 0.8511],\n",
       "         [0.1309, 0.1741, 0.7311, 0.4728],\n",
       "         [0.3177, 0.5520, 0.8601, 0.0828]]])"
      ]
     },
     "execution_count": 18,
     "metadata": {},
     "output_type": "execute_result"
    }
   ],
   "source": [
    "tensor = torch.rand(size=(3, 3, 4))\n",
    "tensor"
   ]
  },
  {
   "cell_type": "code",
   "execution_count": 19,
   "id": "f242503a",
   "metadata": {},
   "outputs": [
    {
     "data": {
      "text/plain": [
       "tensor([[0.3650, 0.1612, 0.0234, 0.2243, 0.6144, 0.9675],\n",
       "        [0.3989, 0.8552, 0.3742, 0.1511, 0.7356, 0.6841],\n",
       "        [0.0943, 0.9228, 0.9513, 0.0889, 0.1429, 0.1633],\n",
       "        [0.8017, 0.3099, 0.1879, 0.4927, 0.6683, 0.3731],\n",
       "        [0.6167, 0.4373, 0.0965, 0.8511, 0.1309, 0.1741],\n",
       "        [0.7311, 0.4728, 0.3177, 0.5520, 0.8601, 0.0828]])"
      ]
     },
     "execution_count": 19,
     "metadata": {},
     "output_type": "execute_result"
    }
   ],
   "source": [
    "# shape 변화 (view 사용을 권장)\n",
    "tensor.view([-1, 6])"
   ]
  },
  {
   "cell_type": "code",
   "execution_count": 20,
   "id": "9561fa77",
   "metadata": {},
   "outputs": [
    {
     "data": {
      "text/plain": [
       "tensor([[0.3650, 0.1612, 0.0234, 0.2243, 0.6144, 0.9675],\n",
       "        [0.3989, 0.8552, 0.3742, 0.1511, 0.7356, 0.6841],\n",
       "        [0.0943, 0.9228, 0.9513, 0.0889, 0.1429, 0.1633],\n",
       "        [0.8017, 0.3099, 0.1879, 0.4927, 0.6683, 0.3731],\n",
       "        [0.6167, 0.4373, 0.0965, 0.8511, 0.1309, 0.1741],\n",
       "        [0.7311, 0.4728, 0.3177, 0.5520, 0.8601, 0.0828]])"
      ]
     },
     "execution_count": 20,
     "metadata": {},
     "output_type": "execute_result"
    }
   ],
   "source": [
    "tensor.reshape([-1, 6])"
   ]
  },
  {
   "cell_type": "code",
   "execution_count": 32,
   "id": "f6794ef3",
   "metadata": {},
   "outputs": [
    {
     "name": "stdout",
     "output_type": "stream",
     "text": [
      "tensor([[1.],\n",
      "        [1.],\n",
      "        [1.]])\n",
      "tensor([[1., 1., 1.]])\n"
     ]
    }
   ],
   "source": [
    "# view와 reshape의 차이\n",
    "\n",
    "# view : 기존 텐서가 변경되면, 형태가 바뀐 텐서도 함께 변경. 동일한 메모리 사용.\n",
    "a = torch.zeros(3, 1)\n",
    "b = a.view(1, 3)\n",
    "a.fill_(1)\n",
    "print(a)\n",
    "print(b)"
   ]
  },
  {
   "cell_type": "code",
   "execution_count": 33,
   "id": "25398a3f",
   "metadata": {},
   "outputs": [
    {
     "name": "stdout",
     "output_type": "stream",
     "text": [
      "tensor([[9.],\n",
      "        [0.],\n",
      "        [0.],\n",
      "        [0.],\n",
      "        [0.],\n",
      "        [0.]])\n",
      "tensor([9., 0., 0., 0., 0., 0.])\n"
     ]
    }
   ],
   "source": [
    "# reshape : 동일한 메모리를 사용하지 않고, copy. 서로 영향을 받지 않음. (1.10.1에서 적용이 안 되고 있음.)\n",
    "a = torch.zeros(6, 1)\n",
    "b = a.reshape(6)\n",
    "a[0, 0] = 9\n",
    "print(a)\n",
    "print(b)"
   ]
  },
  {
   "cell_type": "code",
   "execution_count": 37,
   "id": "dd55886c",
   "metadata": {},
   "outputs": [
    {
     "name": "stdout",
     "output_type": "stream",
     "text": [
      "tensor([[[0.1390, 0.1468]],\n",
      "\n",
      "        [[0.7072, 0.5035]]])\n",
      "torch.Size([2, 1, 2])\n"
     ]
    }
   ],
   "source": [
    "# squeeze\n",
    "tensor = torch.rand(size=(2, 1, 2))\n",
    "print(tensor)\n",
    "print(tensor.shape)"
   ]
  },
  {
   "cell_type": "code",
   "execution_count": 39,
   "id": "6ea0d8c0",
   "metadata": {},
   "outputs": [
    {
     "data": {
      "text/plain": [
       "torch.Size([2, 2])"
      ]
     },
     "execution_count": 39,
     "metadata": {},
     "output_type": "execute_result"
    }
   ],
   "source": [
    "tensor.squeeze().shape"
   ]
  },
  {
   "cell_type": "code",
   "execution_count": 40,
   "id": "79a05816",
   "metadata": {},
   "outputs": [
    {
     "name": "stdout",
     "output_type": "stream",
     "text": [
      "tensor([[0.8666, 0.4022],\n",
      "        [0.6980, 0.4611]])\n",
      "torch.Size([2, 2])\n"
     ]
    }
   ],
   "source": [
    "# unsqueeze\n",
    "tensor = torch.rand(size=(2, 2))\n",
    "print(tensor)\n",
    "print(tensor.shape)"
   ]
  },
  {
   "cell_type": "code",
   "execution_count": 41,
   "id": "be9689d5",
   "metadata": {},
   "outputs": [
    {
     "data": {
      "text/plain": [
       "torch.Size([1, 2, 2])"
      ]
     },
     "execution_count": 41,
     "metadata": {},
     "output_type": "execute_result"
    }
   ],
   "source": [
    "tensor.unsqueeze(0).shape"
   ]
  },
  {
   "cell_type": "code",
   "execution_count": 42,
   "id": "e4cbbe23",
   "metadata": {},
   "outputs": [
    {
     "data": {
      "text/plain": [
       "torch.Size([2, 1, 2])"
      ]
     },
     "execution_count": 42,
     "metadata": {},
     "output_type": "execute_result"
    }
   ],
   "source": [
    "tensor.unsqueeze(1).shape"
   ]
  },
  {
   "cell_type": "code",
   "execution_count": 43,
   "id": "70dbb51d",
   "metadata": {},
   "outputs": [
    {
     "data": {
      "text/plain": [
       "torch.Size([2, 2, 1])"
      ]
     },
     "execution_count": 43,
     "metadata": {},
     "output_type": "execute_result"
    }
   ],
   "source": [
    "tensor.unsqueeze(2).shape"
   ]
  },
  {
   "cell_type": "code",
   "execution_count": 44,
   "id": "b976fab2",
   "metadata": {},
   "outputs": [],
   "source": [
    "# 행렬 곱셈\n",
    "t1 = torch.rand(size=(2, 5))\n",
    "t2 = torch.rand(size=(5, 4))"
   ]
  },
  {
   "cell_type": "code",
   "execution_count": 45,
   "id": "3c060d32",
   "metadata": {},
   "outputs": [
    {
     "ename": "RuntimeError",
     "evalue": "1D tensors expected, but got 2D and 2D tensors",
     "output_type": "error",
     "traceback": [
      "\u001b[1;31m---------------------------------------------------------------------------\u001b[0m",
      "\u001b[1;31mRuntimeError\u001b[0m                              Traceback (most recent call last)",
      "\u001b[1;32mC:\\Users\\Public\\Documents\\ESTsoft\\CreatorTemp/ipykernel_9872/387337242.py\u001b[0m in \u001b[0;36m<module>\u001b[1;34m\u001b[0m\n\u001b[0;32m      1\u001b[0m \u001b[1;31m# dot은 행렬 곱셈을 지원하지 않음\u001b[0m\u001b[1;33m\u001b[0m\u001b[1;33m\u001b[0m\u001b[1;33m\u001b[0m\u001b[0m\n\u001b[1;32m----> 2\u001b[1;33m \u001b[0mt1\u001b[0m\u001b[1;33m.\u001b[0m\u001b[0mdot\u001b[0m\u001b[1;33m(\u001b[0m\u001b[0mt2\u001b[0m\u001b[1;33m)\u001b[0m\u001b[1;33m\u001b[0m\u001b[1;33m\u001b[0m\u001b[0m\n\u001b[0m",
      "\u001b[1;31mRuntimeError\u001b[0m: 1D tensors expected, but got 2D and 2D tensors"
     ]
    }
   ],
   "source": [
    "# dot은 행렬 곱셈을 지원하지 않음\n",
    "t1.dot(t2)"
   ]
  },
  {
   "cell_type": "code",
   "execution_count": 46,
   "id": "1168c02b",
   "metadata": {},
   "outputs": [
    {
     "data": {
      "text/plain": [
       "tensor([[2.2574, 2.0396, 1.4718, 1.3267],\n",
       "        [1.6985, 2.0950, 1.4171, 1.2463]])"
      ]
     },
     "execution_count": 46,
     "metadata": {},
     "output_type": "execute_result"
    }
   ],
   "source": [
    "# 행렬 곱셈은 mm\n",
    "t1.mm(t2)"
   ]
  },
  {
   "cell_type": "code",
   "execution_count": 55,
   "id": "91ddfd8c",
   "metadata": {},
   "outputs": [
    {
     "data": {
      "text/plain": [
       "tensor(0.2446)"
      ]
     },
     "execution_count": 55,
     "metadata": {},
     "output_type": "execute_result"
    }
   ],
   "source": [
    "# dot은 벡터 내적만 지원 (1D tensor)\n",
    "v1 = torch.rand(3)\n",
    "v2 = torch.rand(3)\n",
    "v1.dot(v2)"
   ]
  },
  {
   "cell_type": "code",
   "execution_count": 65,
   "id": "55163109",
   "metadata": {},
   "outputs": [
    {
     "data": {
      "text/plain": [
       "tensor([[1.3384, 1.6688],\n",
       "        [2.0176, 1.7634],\n",
       "        [1.7679, 1.4628],\n",
       "        [2.0150, 1.0185],\n",
       "        [1.2871, 1.1112]])"
      ]
     },
     "execution_count": 65,
     "metadata": {},
     "output_type": "execute_result"
    }
   ],
   "source": [
    "# matmul은 브로드캐스팅 지원\n",
    "a = torch.rand(5, 2, 3)\n",
    "b = torch.tensor([1.0, 1.0, 1.0])\n",
    "a.matmul(b)"
   ]
  },
  {
   "cell_type": "code",
   "execution_count": 66,
   "id": "0c772693",
   "metadata": {},
   "outputs": [
    {
     "name": "stdout",
     "output_type": "stream",
     "text": [
      "tensor([[0.2378, 0.3182, 0.7823],\n",
      "        [0.5632, 0.4147, 0.6909]])\n",
      "tensor([1., 1., 1.])\n"
     ]
    }
   ],
   "source": [
    "print(a[0])\n",
    "print(b)"
   ]
  },
  {
   "cell_type": "code",
   "execution_count": 68,
   "id": "a848ea65",
   "metadata": {},
   "outputs": [
    {
     "data": {
      "text/plain": [
       "tensor([1.3384, 1.6688])"
      ]
     },
     "execution_count": 68,
     "metadata": {},
     "output_type": "execute_result"
    }
   ],
   "source": [
    "a[0].mm(torch.unsqueeze(b, 1)).squeeze()"
   ]
  },
  {
   "cell_type": "markdown",
   "id": "b0ad6b36",
   "metadata": {},
   "source": [
    "## AutoGrad"
   ]
  },
  {
   "cell_type": "code",
   "execution_count": 69,
   "id": "c9cc874c",
   "metadata": {},
   "outputs": [],
   "source": [
    "w = torch.tensor(2.0, requires_grad=True) # w = 2일 때\n",
    "u = w**2\n",
    "z = 10*u + 50\n",
    "z.backward()"
   ]
  },
  {
   "cell_type": "code",
   "execution_count": 70,
   "id": "0c904f07",
   "metadata": {},
   "outputs": [
    {
     "data": {
      "text/plain": [
       "tensor(40.)"
      ]
     },
     "execution_count": 70,
     "metadata": {},
     "output_type": "execute_result"
    }
   ],
   "source": [
    "w.grad"
   ]
  },
  {
   "cell_type": "code",
   "execution_count": 74,
   "id": "0fc85658",
   "metadata": {},
   "outputs": [],
   "source": [
    "a = torch.tensor([2., 3.], requires_grad=True) # a = [2, 3]일 때\n",
    "b = torch.tensor([6., 4.], requires_grad=True) # b = [6, 4]일 때\n",
    "Q = 3*a**3 - b**2\n",
    "ex_grad = torch.tensor([2., 1.])\n",
    "Q.backward(gradient=ex_grad)"
   ]
  },
  {
   "cell_type": "code",
   "execution_count": 75,
   "id": "c6e91197",
   "metadata": {},
   "outputs": [
    {
     "data": {
      "text/plain": [
       "tensor([72., 81.])"
      ]
     },
     "execution_count": 75,
     "metadata": {},
     "output_type": "execute_result"
    }
   ],
   "source": [
    "a.grad"
   ]
  },
  {
   "cell_type": "code",
   "execution_count": 76,
   "id": "81864684",
   "metadata": {},
   "outputs": [
    {
     "data": {
      "text/plain": [
       "tensor([-24.,  -8.])"
      ]
     },
     "execution_count": 76,
     "metadata": {},
     "output_type": "execute_result"
    }
   ],
   "source": [
    "b.grad"
   ]
  },
  {
   "cell_type": "code",
   "execution_count": null,
   "id": "80e12a55",
   "metadata": {},
   "outputs": [],
   "source": []
  },
  {
   "cell_type": "code",
   "execution_count": null,
   "id": "81b7aaae",
   "metadata": {},
   "outputs": [],
   "source": []
  },
  {
   "cell_type": "code",
   "execution_count": null,
   "id": "7fec947f",
   "metadata": {},
   "outputs": [],
   "source": []
  }
 ],
 "metadata": {
  "kernelspec": {
   "display_name": "Python 3 (ipykernel)",
   "language": "python",
   "name": "python3"
  },
  "language_info": {
   "codemirror_mode": {
    "name": "ipython",
    "version": 3
   },
   "file_extension": ".py",
   "mimetype": "text/x-python",
   "name": "python",
   "nbconvert_exporter": "python",
   "pygments_lexer": "ipython3",
   "version": "3.8.12"
  },
  "toc": {
   "base_numbering": 1,
   "nav_menu": {},
   "number_sections": true,
   "sideBar": true,
   "skip_h1_title": false,
   "title_cell": "Table of Contents",
   "title_sidebar": "Contents",
   "toc_cell": false,
   "toc_position": {},
   "toc_section_display": true,
   "toc_window_display": false
  }
 },
 "nbformat": 4,
 "nbformat_minor": 5
}
