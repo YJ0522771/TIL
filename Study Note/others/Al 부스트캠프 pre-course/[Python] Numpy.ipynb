{
 "cells": [
  {
   "cell_type": "code",
   "execution_count": 1,
   "id": "e5b84ae4",
   "metadata": {},
   "outputs": [
    {
     "data": {
      "text/plain": [
       "True"
      ]
     },
     "execution_count": 1,
     "metadata": {},
     "output_type": "execute_result"
    }
   ],
   "source": [
    "a = [1, 2, 3, 4]\n",
    "b = [4, 3, 2, 1]\n",
    "a[0] is b[-1] # 이미 값들에 대한 메모리가 할당되어 있고, 값에 맞춰 리스트에 주소를 저장. "
   ]
  },
  {
   "cell_type": "code",
   "execution_count": 2,
   "id": "c863c0af",
   "metadata": {},
   "outputs": [
    {
     "data": {
      "text/plain": [
       "False"
      ]
     },
     "execution_count": 2,
     "metadata": {},
     "output_type": "execute_result"
    }
   ],
   "source": [
    "import numpy as np\n",
    "\n",
    "# 리스트와 ndarray의 차이\n",
    "# C의 array와 같은 메모리 구조\n",
    "an = np.array(a)\n",
    "bn = np.array(b)\n",
    "an[0] is bn[-1]"
   ]
  },
  {
   "cell_type": "code",
   "execution_count": 4,
   "id": "b72355ac",
   "metadata": {},
   "outputs": [
    {
     "name": "stdout",
     "output_type": "stream",
     "text": [
      "(3, 3, 3)\n",
      "int32\n"
     ]
    }
   ],
   "source": [
    "arr = [[[1, 2, 3], [4, 5, 6], [7, 8, 9]], [[1, 2, 3], [4, 5, 6], [7, 8, 9]], [[1, 2, 3], [4, 5, 6], [7, 8, 9]]]\n",
    "aa = np.array(arr)\n",
    "print(aa.shape)\n",
    "print(aa.dtype)"
   ]
  },
  {
   "cell_type": "code",
   "execution_count": 8,
   "id": "4f6d981a",
   "metadata": {},
   "outputs": [
    {
     "name": "stdout",
     "output_type": "stream",
     "text": [
      "3\n",
      "27\n",
      "108\n"
     ]
    }
   ],
   "source": [
    "print(aa.ndim)\n",
    "print(aa.size)\n",
    "print(aa.nbytes)"
   ]
  },
  {
   "cell_type": "markdown",
   "id": "781ebf7d",
   "metadata": {},
   "source": [
    "### reshape"
   ]
  },
  {
   "cell_type": "code",
   "execution_count": 4,
   "id": "69e425b1",
   "metadata": {},
   "outputs": [
    {
     "name": "stdout",
     "output_type": "stream",
     "text": [
      "[[1 2]\n",
      " [3 4]\n",
      " [5 6]\n",
      " [7 8]]\n",
      "[[1 2 3 4 5 6 7 8]]\n"
     ]
    }
   ],
   "source": [
    "import numpy as np\n",
    "\n",
    "arr = [[1, 2, 3, 4], [5, 6, 7, 8]]\n",
    "print(np.array(arr).reshape(-1, 2))    # -1 : 자동으로 reshape 되는 개수 선정 \n",
    "print(np.array(arr).reshape(1, -1))"
   ]
  },
  {
   "cell_type": "markdown",
   "id": "80a765d9",
   "metadata": {},
   "source": [
    "### flatten"
   ]
  },
  {
   "cell_type": "code",
   "execution_count": 5,
   "id": "558c4deb",
   "metadata": {},
   "outputs": [
    {
     "name": "stdout",
     "output_type": "stream",
     "text": [
      "[1 2 3 4 5 6 7 8]\n"
     ]
    }
   ],
   "source": [
    "print(np.array(arr).flatten())"
   ]
  },
  {
   "cell_type": "code",
   "execution_count": null,
   "id": "329ea06f",
   "metadata": {},
   "outputs": [],
   "source": []
  },
  {
   "cell_type": "markdown",
   "id": "d315cf37",
   "metadata": {},
   "source": [
    "### slicing"
   ]
  },
  {
   "cell_type": "code",
   "execution_count": 7,
   "id": "cde11fce",
   "metadata": {},
   "outputs": [
    {
     "name": "stdout",
     "output_type": "stream",
     "text": [
      "[[1, 2, 3, 4], [5, 6, 7, 8], [9, 10, 11, 12]]\n",
      "[[2 3]\n",
      " [6 7]]\n"
     ]
    }
   ],
   "source": [
    "arr = [[1, 2, 3, 4], [5, 6, 7, 8], [9, 10, 11, 12]]\n",
    "print(arr)\n",
    "print(np.array(arr)[:2, 1:3])"
   ]
  },
  {
   "cell_type": "code",
   "execution_count": 8,
   "id": "408e6906",
   "metadata": {},
   "outputs": [
    {
     "name": "stdout",
     "output_type": "stream",
     "text": [
      "[5 6 7 8]\n",
      "[[5 6 7 8]]\n"
     ]
    }
   ],
   "source": [
    "# 둘의 차이\n",
    "print(np.array(arr)[1])\n",
    "print(np.array(arr)[1:2])"
   ]
  },
  {
   "cell_type": "code",
   "execution_count": 10,
   "id": "9e7cb526",
   "metadata": {},
   "outputs": [
    {
     "name": "stdout",
     "output_type": "stream",
     "text": [
      "[[ 1  3]\n",
      " [ 5  7]\n",
      " [ 9 11]]\n"
     ]
    }
   ],
   "source": [
    "print(np.array(arr)[:, ::2])"
   ]
  },
  {
   "cell_type": "code",
   "execution_count": null,
   "id": "a05d1b96",
   "metadata": {},
   "outputs": [],
   "source": []
  },
  {
   "cell_type": "code",
   "execution_count": null,
   "id": "2ea7d4ed",
   "metadata": {},
   "outputs": [],
   "source": []
  },
  {
   "cell_type": "code",
   "execution_count": null,
   "id": "5e4c10c5",
   "metadata": {},
   "outputs": [],
   "source": []
  }
 ],
 "metadata": {
  "kernelspec": {
   "display_name": "Python 3",
   "language": "python",
   "name": "python3"
  },
  "language_info": {
   "codemirror_mode": {
    "name": "ipython",
    "version": 3
   },
   "file_extension": ".py",
   "mimetype": "text/x-python",
   "name": "python",
   "nbconvert_exporter": "python",
   "pygments_lexer": "ipython3",
   "version": "3.8.8"
  },
  "toc": {
   "base_numbering": 1,
   "nav_menu": {},
   "number_sections": true,
   "sideBar": true,
   "skip_h1_title": false,
   "title_cell": "Table of Contents",
   "title_sidebar": "Contents",
   "toc_cell": false,
   "toc_position": {},
   "toc_section_display": true,
   "toc_window_display": false
  }
 },
 "nbformat": 4,
 "nbformat_minor": 5
}
