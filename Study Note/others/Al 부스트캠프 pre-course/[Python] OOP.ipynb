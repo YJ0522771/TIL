{
 "cells": [
  {
   "cell_type": "code",
   "execution_count": 8,
   "id": "f9a9e12a",
   "metadata": {},
   "outputs": [],
   "source": [
    "class Note(object):\n",
    "    def __init__(self, content = ''):\n",
    "        self.content = content\n",
    "        \n",
    "    def __add__(self, other_note):\n",
    "        return self.content + other_note.content\n",
    "    \n",
    "    def __str__(self):\n",
    "        return self.content\n",
    "    \n",
    "    def write_content(self, content):\n",
    "        self.content = content\n",
    "        \n",
    "    def remove_content(self):\n",
    "        self.content = ''"
   ]
  },
  {
   "cell_type": "code",
   "execution_count": 14,
   "id": "c4fc04db",
   "metadata": {},
   "outputs": [],
   "source": [
    "class Notebook(object):\n",
    "    def __init__(self):\n",
    "        self.page_num = 1\n",
    "        self.notes = []\n",
    "        note = Note()\n",
    "        self.notes.append(note)\n",
    "        \n",
    "    def add_note(self, note):\n",
    "        if self.page_num < 300:\n",
    "            self.notes.append(note)\n",
    "            self.page_num += 1\n",
    "        else:\n",
    "            print('Notebook is full')\n",
    "            \n",
    "    def remove_note(self, page = 0):\n",
    "        if page <= self.page_num:\n",
    "            if page > 0:\n",
    "                self.notes.remove(page - 1)\n",
    "            else:\n",
    "                self.notes.remove(self.page_num - 1)\n",
    "            self.page_num -= 1\n",
    "        else:\n",
    "            print('not exist')\n",
    "            \n",
    "    def get_note(self, page = 0):\n",
    "        if page > 0:\n",
    "            print(self.notes[page - 1])\n",
    "        else:\n",
    "            print(self.notes[self.page_num - 1])\n",
    "            \n",
    "    def get_all_notes(self):\n",
    "        for i in range(self.page_num):\n",
    "            print(self.notes[i])\n",
    "        \n",
    "    def get_page_num(self):\n",
    "        return self.page_num"
   ]
  },
  {
   "cell_type": "code",
   "execution_count": 16,
   "id": "d9dd7ad2",
   "metadata": {},
   "outputs": [
    {
     "name": "stdout",
     "output_type": "stream",
     "text": [
      "\n",
      "안녕하세요.\n",
      "반갑습니다.\n"
     ]
    }
   ],
   "source": [
    "notebook = Notebook()\n",
    "note = Note('안녕하세요.')\n",
    "notebook.add_note(note)\n",
    "notebook.add_note(Note('반갑습니다.'))\n",
    "notebook.get_all_notes()"
   ]
  },
  {
   "cell_type": "code",
   "execution_count": 22,
   "id": "df871eb7",
   "metadata": {},
   "outputs": [],
   "source": [
    "class MyClass():\n",
    "    def __init__(self):\n",
    "        self.__content = 'private'\n",
    "        \n",
    "    @property\n",
    "    def content(self):\n",
    "        return self.__content"
   ]
  },
  {
   "cell_type": "code",
   "execution_count": 25,
   "id": "2a5d11b3",
   "metadata": {},
   "outputs": [
    {
     "name": "stdout",
     "output_type": "stream",
     "text": [
      "private\n"
     ]
    }
   ],
   "source": [
    "my_class = MyClass()\n",
    "# print(my_class.__content)\n",
    "print(my_class.content)"
   ]
  },
  {
   "cell_type": "code",
   "execution_count": 27,
   "id": "d64be258",
   "metadata": {},
   "outputs": [],
   "source": [
    "def tag_func(tag, text):\n",
    "    tag = tag\n",
    "    text = text\n",
    "    \n",
    "    def inner_func():\n",
    "        return '<{0}>{1}<{0}>'.format(tag, text)\n",
    "    return inner_func\n",
    "\n",
    "h1_func = tag_func('title', 'python class')"
   ]
  },
  {
   "cell_type": "code",
   "execution_count": 31,
   "id": "c4f04345",
   "metadata": {},
   "outputs": [
    {
     "data": {
      "text/plain": [
       "'<title>python class<title>'"
      ]
     },
     "execution_count": 31,
     "metadata": {},
     "output_type": "execute_result"
    }
   ],
   "source": [
    "h1_func()"
   ]
  }
 ],
 "metadata": {
  "kernelspec": {
   "display_name": "Python 3",
   "language": "python",
   "name": "python3"
  },
  "language_info": {
   "codemirror_mode": {
    "name": "ipython",
    "version": 3
   },
   "file_extension": ".py",
   "mimetype": "text/x-python",
   "name": "python",
   "nbconvert_exporter": "python",
   "pygments_lexer": "ipython3",
   "version": "3.8.8"
  },
  "toc": {
   "base_numbering": 1,
   "nav_menu": {},
   "number_sections": true,
   "sideBar": true,
   "skip_h1_title": false,
   "title_cell": "Table of Contents",
   "title_sidebar": "Contents",
   "toc_cell": false,
   "toc_position": {},
   "toc_section_display": true,
   "toc_window_display": false
  }
 },
 "nbformat": 4,
 "nbformat_minor": 5
}
