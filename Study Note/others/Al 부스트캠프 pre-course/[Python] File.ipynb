{
 "cells": [
  {
   "cell_type": "code",
   "execution_count": 6,
   "id": "535c6663",
   "metadata": {},
   "outputs": [
    {
     "name": "stdout",
     "output_type": "stream",
     "text": [
      "This is a text file for python file I/O test.\n"
     ]
    }
   ],
   "source": [
    "f = open('./file.txt', 'r')\n",
    "content = f.read()\n",
    "print(content)\n",
    "f.close()"
   ]
  },
  {
   "cell_type": "code",
   "execution_count": 11,
   "id": "4a953ab3",
   "metadata": {},
   "outputs": [
    {
     "name": "stdout",
     "output_type": "stream",
     "text": [
      "This is a text file for python file I/O test.\n",
      "<_io.TextIOWrapper name='./file.txt' mode='r' encoding='cp949'>\n"
     ]
    },
    {
     "ename": "ValueError",
     "evalue": "I/O operation on closed file.",
     "output_type": "error",
     "traceback": [
      "\u001b[1;31m---------------------------------------------------------------------------\u001b[0m",
      "\u001b[1;31mValueError\u001b[0m                                Traceback (most recent call last)",
      "\u001b[1;32m<ipython-input-11-255eb5274c63>\u001b[0m in \u001b[0;36m<module>\u001b[1;34m\u001b[0m\n\u001b[0;32m      3\u001b[0m     \u001b[0mprint\u001b[0m\u001b[1;33m(\u001b[0m\u001b[0mcontent\u001b[0m\u001b[1;33m)\u001b[0m\u001b[1;33m\u001b[0m\u001b[1;33m\u001b[0m\u001b[0m\n\u001b[0;32m      4\u001b[0m \u001b[0mprint\u001b[0m\u001b[1;33m(\u001b[0m\u001b[0mfp\u001b[0m\u001b[1;33m)\u001b[0m\u001b[1;33m\u001b[0m\u001b[1;33m\u001b[0m\u001b[0m\n\u001b[1;32m----> 5\u001b[1;33m \u001b[0mc\u001b[0m \u001b[1;33m=\u001b[0m \u001b[0mfp\u001b[0m\u001b[1;33m.\u001b[0m\u001b[0mread\u001b[0m\u001b[1;33m(\u001b[0m\u001b[1;33m)\u001b[0m\u001b[1;33m\u001b[0m\u001b[1;33m\u001b[0m\u001b[0m\n\u001b[0m\u001b[0;32m      6\u001b[0m \u001b[0mprint\u001b[0m\u001b[1;33m(\u001b[0m\u001b[0mc\u001b[0m\u001b[1;33m)\u001b[0m\u001b[1;33m\u001b[0m\u001b[1;33m\u001b[0m\u001b[0m\n",
      "\u001b[1;31mValueError\u001b[0m: I/O operation on closed file."
     ]
    }
   ],
   "source": [
    "with open('./file.txt', 'r') as fp:\n",
    "    content = fp.read()\n",
    "    print(content)\n",
    "print(fp)\n",
    "c = fp.read()\n",
    "print(c)"
   ]
  },
  {
   "cell_type": "code",
   "execution_count": 14,
   "id": "99203ab8",
   "metadata": {},
   "outputs": [
    {
     "name": "stdout",
     "output_type": "stream",
     "text": [
      "['This is a text file for python file I/O test.\\n', 'line test.']\n"
     ]
    }
   ],
   "source": [
    "with open('./file.txt', 'r') as fp:\n",
    "    content = fp.readlines()\n",
    "    print(content)"
   ]
  },
  {
   "cell_type": "code",
   "execution_count": 17,
   "id": "852dd120",
   "metadata": {},
   "outputs": [],
   "source": [
    "with open('./file write.txt', 'w', encoding='utf8') as f:\n",
    "    f.write('This is a file for file write test.')"
   ]
  },
  {
   "cell_type": "code",
   "execution_count": 20,
   "id": "61eaa217",
   "metadata": {},
   "outputs": [],
   "source": [
    "with open('./file write.txt', 'a', encoding='utf8') as f:\n",
    "    f.write('append test')"
   ]
  },
  {
   "cell_type": "code",
   "execution_count": 22,
   "id": "c4ebe354",
   "metadata": {},
   "outputs": [
    {
     "ename": "NameError",
     "evalue": "name 'FileExistError' is not defined",
     "output_type": "error",
     "traceback": [
      "\u001b[1;31m---------------------------------------------------------------------------\u001b[0m",
      "\u001b[1;31mFileExistsError\u001b[0m                           Traceback (most recent call last)",
      "\u001b[1;32m<ipython-input-22-f11866e1cede>\u001b[0m in \u001b[0;36m<module>\u001b[1;34m\u001b[0m\n\u001b[0;32m      2\u001b[0m \u001b[1;32mtry\u001b[0m\u001b[1;33m:\u001b[0m\u001b[1;33m\u001b[0m\u001b[1;33m\u001b[0m\u001b[0m\n\u001b[1;32m----> 3\u001b[1;33m     \u001b[0mos\u001b[0m\u001b[1;33m.\u001b[0m\u001b[0mmkdir\u001b[0m\u001b[1;33m(\u001b[0m\u001b[1;34m'dir_test'\u001b[0m\u001b[1;33m)\u001b[0m\u001b[1;33m\u001b[0m\u001b[1;33m\u001b[0m\u001b[0m\n\u001b[0m\u001b[0;32m      4\u001b[0m \u001b[1;32mexcept\u001b[0m \u001b[0mFileExistError\u001b[0m \u001b[1;32mas\u001b[0m \u001b[0me\u001b[0m\u001b[1;33m:\u001b[0m\u001b[1;33m\u001b[0m\u001b[1;33m\u001b[0m\u001b[0m\n",
      "\u001b[1;31mFileExistsError\u001b[0m: [WinError 183] 파일이 이미 있으므로 만들 수 없습니다: 'dir_test'",
      "\nDuring handling of the above exception, another exception occurred:\n",
      "\u001b[1;31mNameError\u001b[0m                                 Traceback (most recent call last)",
      "\u001b[1;32m<ipython-input-22-f11866e1cede>\u001b[0m in \u001b[0;36m<module>\u001b[1;34m\u001b[0m\n\u001b[0;32m      2\u001b[0m \u001b[1;32mtry\u001b[0m\u001b[1;33m:\u001b[0m\u001b[1;33m\u001b[0m\u001b[1;33m\u001b[0m\u001b[0m\n\u001b[0;32m      3\u001b[0m     \u001b[0mos\u001b[0m\u001b[1;33m.\u001b[0m\u001b[0mmkdir\u001b[0m\u001b[1;33m(\u001b[0m\u001b[1;34m'dir_test'\u001b[0m\u001b[1;33m)\u001b[0m\u001b[1;33m\u001b[0m\u001b[1;33m\u001b[0m\u001b[0m\n\u001b[1;32m----> 4\u001b[1;33m \u001b[1;32mexcept\u001b[0m \u001b[0mFileExistError\u001b[0m \u001b[1;32mas\u001b[0m \u001b[0me\u001b[0m\u001b[1;33m:\u001b[0m\u001b[1;33m\u001b[0m\u001b[1;33m\u001b[0m\u001b[0m\n\u001b[0m\u001b[0;32m      5\u001b[0m     \u001b[0mprint\u001b[0m\u001b[1;33m(\u001b[0m\u001b[0me\u001b[0m\u001b[1;33m)\u001b[0m\u001b[1;33m\u001b[0m\u001b[1;33m\u001b[0m\u001b[0m\n",
      "\u001b[1;31mNameError\u001b[0m: name 'FileExistError' is not defined"
     ]
    }
   ],
   "source": [
    "import os\n",
    "try:\n",
    "    os.mkdir('dir_test')\n",
    "except FileExistError as e:\n",
    "    print(e)"
   ]
  },
  {
   "cell_type": "code",
   "execution_count": 23,
   "id": "9331ae78",
   "metadata": {},
   "outputs": [
    {
     "name": "stdout",
     "output_type": "stream",
     "text": [
      "dir_test\\test.txt\n"
     ]
    }
   ],
   "source": [
    "path = os.path.join('dir_test', 'dir_test.txt')\n",
    "print(path)"
   ]
  },
  {
   "cell_type": "code",
   "execution_count": 24,
   "id": "2292e1e9",
   "metadata": {},
   "outputs": [
    {
     "data": {
      "text/plain": [
       "'dir_test\\\\test.txt'"
      ]
     },
     "execution_count": 24,
     "metadata": {},
     "output_type": "execute_result"
    }
   ],
   "source": [
    "import shutil\n",
    "shutil.copy('file.txt', path)"
   ]
  },
  {
   "cell_type": "code",
   "execution_count": 25,
   "id": "914dc068",
   "metadata": {},
   "outputs": [
    {
     "name": "stdout",
     "output_type": "stream",
     "text": [
      "D:\\OneDrive - strategize value-added web services\\팥\\@@@Git 포트폴리오 관리\\TIL\\Study Note\\others\\Al 부스트캠프 pre-course\n"
     ]
    }
   ],
   "source": [
    "import pathlib\n",
    "cwd = pathlib.Path.cwd()\n",
    "print(cwd)"
   ]
  },
  {
   "cell_type": "code",
   "execution_count": 26,
   "id": "95c390f2",
   "metadata": {},
   "outputs": [
    {
     "name": "stdout",
     "output_type": "stream",
     "text": [
      "D:\\OneDrive - strategize value-added web services\\팥\\@@@Git 포트폴리오 관리\\TIL\\Study Note\\others\n"
     ]
    }
   ],
   "source": [
    "print(cwd.parent)"
   ]
  },
  {
   "cell_type": "code",
   "execution_count": 29,
   "id": "c99962e7",
   "metadata": {},
   "outputs": [
    {
     "name": "stdout",
     "output_type": "stream",
     "text": [
      "[WindowsPath('D:/OneDrive - strategize value-added web services/팥/@@@Git 포트폴리오 관리/TIL/Study Note/others'), WindowsPath('D:/OneDrive - strategize value-added web services/팥/@@@Git 포트폴리오 관리/TIL/Study Note'), WindowsPath('D:/OneDrive - strategize value-added web services/팥/@@@Git 포트폴리오 관리/TIL'), WindowsPath('D:/OneDrive - strategize value-added web services/팥/@@@Git 포트폴리오 관리'), WindowsPath('D:/OneDrive - strategize value-added web services/팥'), WindowsPath('D:/OneDrive - strategize value-added web services'), WindowsPath('D:/')]\n"
     ]
    }
   ],
   "source": [
    "print(list(cwd.parents))"
   ]
  },
  {
   "cell_type": "code",
   "execution_count": 31,
   "id": "8fcee1ab",
   "metadata": {},
   "outputs": [
    {
     "name": "stdout",
     "output_type": "stream",
     "text": [
      "[WindowsPath('D:/OneDrive - strategize value-added web services/팥/@@@Git 포트폴리오 관리/TIL/Study Note/others/Al 부스트캠프 pre-course/.gitignore'), WindowsPath('D:/OneDrive - strategize value-added web services/팥/@@@Git 포트폴리오 관리/TIL/Study Note/others/Al 부스트캠프 pre-course/.ipynb_checkpoints'), WindowsPath('D:/OneDrive - strategize value-added web services/팥/@@@Git 포트폴리오 관리/TIL/Study Note/others/Al 부스트캠프 pre-course/dir_test'), WindowsPath('D:/OneDrive - strategize value-added web services/팥/@@@Git 포트폴리오 관리/TIL/Study Note/others/Al 부스트캠프 pre-course/file write.txt'), WindowsPath('D:/OneDrive - strategize value-added web services/팥/@@@Git 포트폴리오 관리/TIL/Study Note/others/Al 부스트캠프 pre-course/file.txt'), WindowsPath('D:/OneDrive - strategize value-added web services/팥/@@@Git 포트폴리오 관리/TIL/Study Note/others/Al 부스트캠프 pre-course/[Python] Exception.ipynb'), WindowsPath('D:/OneDrive - strategize value-added web services/팥/@@@Git 포트폴리오 관리/TIL/Study Note/others/Al 부스트캠프 pre-course/[Python] File, Exception, Log Handling.md'), WindowsPath('D:/OneDrive - strategize value-added web services/팥/@@@Git 포트폴리오 관리/TIL/Study Note/others/Al 부스트캠프 pre-course/[Python] File.ipynb'), WindowsPath('D:/OneDrive - strategize value-added web services/팥/@@@Git 포트폴리오 관리/TIL/Study Note/others/Al 부스트캠프 pre-course/[Python] Module and Project.md'), WindowsPath('D:/OneDrive - strategize value-added web services/팥/@@@Git 포트폴리오 관리/TIL/Study Note/others/Al 부스트캠프 pre-course/[Python] OOP.ipynb'), WindowsPath('D:/OneDrive - strategize value-added web services/팥/@@@Git 포트폴리오 관리/TIL/Study Note/others/Al 부스트캠프 pre-course/[Python] Python Object Oriented Programming.md'), WindowsPath('D:/OneDrive - strategize value-added web services/팥/@@@Git 포트폴리오 관리/TIL/Study Note/others/Al 부스트캠프 pre-course/[Python] 실습')]\n"
     ]
    }
   ],
   "source": [
    "print(list(cwd.glob(\"*\")))"
   ]
  },
  {
   "cell_type": "code",
   "execution_count": 32,
   "id": "c7cfd453",
   "metadata": {},
   "outputs": [],
   "source": [
    "import pickle\n",
    "with open('list.pickle', 'wb') as f:\n",
    "    test = [1,2,3,4,5]\n",
    "    pickle.dump(test,  f)"
   ]
  },
  {
   "cell_type": "code",
   "execution_count": 33,
   "id": "57f32ae2",
   "metadata": {},
   "outputs": [
    {
     "name": "stdout",
     "output_type": "stream",
     "text": [
      "[1, 2, 3, 4, 5]\n"
     ]
    }
   ],
   "source": [
    "with open('list.pickle', 'rb') as f:\n",
    "    test = pickle.load(f)\n",
    "    print(test)"
   ]
  },
  {
   "cell_type": "code",
   "execution_count": null,
   "id": "b2fff189",
   "metadata": {},
   "outputs": [],
   "source": []
  },
  {
   "cell_type": "code",
   "execution_count": null,
   "id": "a4d61d4c",
   "metadata": {},
   "outputs": [],
   "source": []
  },
  {
   "cell_type": "code",
   "execution_count": null,
   "id": "80fb4883",
   "metadata": {},
   "outputs": [],
   "source": []
  }
 ],
 "metadata": {
  "kernelspec": {
   "display_name": "Python 3",
   "language": "python",
   "name": "python3"
  },
  "language_info": {
   "codemirror_mode": {
    "name": "ipython",
    "version": 3
   },
   "file_extension": ".py",
   "mimetype": "text/x-python",
   "name": "python",
   "nbconvert_exporter": "python",
   "pygments_lexer": "ipython3",
   "version": "3.8.8"
  },
  "toc": {
   "base_numbering": 1,
   "nav_menu": {},
   "number_sections": true,
   "sideBar": true,
   "skip_h1_title": false,
   "title_cell": "Table of Contents",
   "title_sidebar": "Contents",
   "toc_cell": false,
   "toc_position": {},
   "toc_section_display": true,
   "toc_window_display": false
  }
 },
 "nbformat": 4,
 "nbformat_minor": 5
}
