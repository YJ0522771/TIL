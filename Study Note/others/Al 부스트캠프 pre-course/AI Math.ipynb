{
 "cells": [
  {
   "cell_type": "code",
   "execution_count": 1,
   "id": "9cc1a36a",
   "metadata": {},
   "outputs": [],
   "source": [
    "import numpy as np"
   ]
  },
  {
   "cell_type": "markdown",
   "id": "b14a899b",
   "metadata": {},
   "source": [
    "### 벡터"
   ]
  },
  {
   "cell_type": "code",
   "execution_count": 2,
   "id": "55bc507c",
   "metadata": {},
   "outputs": [],
   "source": [
    "# L1 norm\n",
    "def l1_norm(x):\n",
    "    x_norm = np.abs(x)\n",
    "    return np.sum(x_norm)\n",
    "\n",
    "# L2 norm = 벡터의 크기\n",
    "def l2_norm(x):\n",
    "    x_norm = x * x\n",
    "    x_norm = np.sum(x_norm)\n",
    "    return np.sqrt(x_norm)"
   ]
  },
  {
   "cell_type": "code",
   "execution_count": 27,
   "id": "0fa64135",
   "metadata": {},
   "outputs": [],
   "source": [
    "# 두 벡터 사이 각도\n",
    "def angle(x, y):\n",
    "    v = np.inner(x, y) / (l2_norm(x) * l2_norm(y))\n",
    "    theta = np.arccos(v)\n",
    "    return theta"
   ]
  },
  {
   "cell_type": "markdown",
   "id": "65dde059",
   "metadata": {},
   "source": [
    "### 행렬"
   ]
  },
  {
   "cell_type": "code",
   "execution_count": 5,
   "id": "debc6347",
   "metadata": {},
   "outputs": [
    {
     "data": {
      "text/plain": [
       "array([[ 30,  24,  18],\n",
       "       [ 84,  69,  54],\n",
       "       [138, 114,  90]])"
      ]
     },
     "execution_count": 5,
     "metadata": {},
     "output_type": "execute_result"
    }
   ],
   "source": [
    "# 행렬의 곱셈\n",
    "X = [[1, 2, 3],\n",
    "     [4, 5, 6],\n",
    "     [7, 8, 9]]\n",
    "Y = [[9, 8, 7],\n",
    "     [6, 5, 4],\n",
    "     [3, 2, 1]]\n",
    "\n",
    "X = np.array(X)\n",
    "Y = np.array(Y)\n",
    "\n",
    "X @ Y"
   ]
  },
  {
   "cell_type": "code",
   "execution_count": 6,
   "id": "e6d62b48",
   "metadata": {},
   "outputs": [
    {
     "data": {
      "text/plain": [
       "array([[ 46,  28,  10],\n",
       "       [118,  73,  28],\n",
       "       [190, 118,  46]])"
      ]
     },
     "execution_count": 6,
     "metadata": {},
     "output_type": "execute_result"
    }
   ],
   "source": [
    "# 행렬의 inner product\n",
    "np.inner(X, Y)"
   ]
  },
  {
   "cell_type": "code",
   "execution_count": 14,
   "id": "86f559a5",
   "metadata": {},
   "outputs": [
    {
     "data": {
      "text/plain": [
       "array([[-2. ,  1. ],\n",
       "       [ 1.5, -0.5]])"
      ]
     },
     "execution_count": 14,
     "metadata": {},
     "output_type": "execute_result"
    }
   ],
   "source": [
    "# 역행렬\n",
    "X = np.array([[1, 2], [3, 4]])\n",
    "X_inv = np.linalg.inv(X)\n",
    "X_inv"
   ]
  },
  {
   "cell_type": "code",
   "execution_count": 15,
   "id": "d8d8a732",
   "metadata": {},
   "outputs": [
    {
     "data": {
      "text/plain": [
       "array([[1.00000000e+00, 1.11022302e-16],\n",
       "       [0.00000000e+00, 1.00000000e+00]])"
      ]
     },
     "execution_count": 15,
     "metadata": {},
     "output_type": "execute_result"
    }
   ],
   "source": [
    "X @ X_inv"
   ]
  },
  {
   "cell_type": "code",
   "execution_count": 22,
   "id": "02eab987",
   "metadata": {},
   "outputs": [],
   "source": [
    "# n <= m\n",
    "X = np.array([[1, 2, 3],\n",
    "     [4, 5, 6]])\n",
    "X_inv = np.linalg.pinv(X)"
   ]
  },
  {
   "cell_type": "code",
   "execution_count": 23,
   "id": "f53bdf72",
   "metadata": {},
   "outputs": [
    {
     "data": {
      "text/plain": [
       "array([[1.00000000e+00, 2.22044605e-16],\n",
       "       [0.00000000e+00, 1.00000000e+00]])"
      ]
     },
     "execution_count": 23,
     "metadata": {},
     "output_type": "execute_result"
    }
   ],
   "source": [
    "X @ X_inv"
   ]
  },
  {
   "cell_type": "code",
   "execution_count": 24,
   "id": "95762e83",
   "metadata": {},
   "outputs": [
    {
     "data": {
      "text/plain": [
       "array([[ 0.83333333,  0.33333333, -0.16666667],\n",
       "       [ 0.33333333,  0.33333333,  0.33333333],\n",
       "       [-0.16666667,  0.33333333,  0.83333333]])"
      ]
     },
     "execution_count": 24,
     "metadata": {},
     "output_type": "execute_result"
    }
   ],
   "source": [
    "X_inv @ X"
   ]
  },
  {
   "cell_type": "code",
   "execution_count": 26,
   "id": "7727ebb5",
   "metadata": {},
   "outputs": [
    {
     "data": {
      "text/plain": [
       "[array([1, 2, 3, 1]), array([4, 5, 6, 1])]"
      ]
     },
     "execution_count": 26,
     "metadata": {},
     "output_type": "execute_result"
    }
   ],
   "source": [
    "[np.append(x, [1]) for x in [[1, 2, 3], [4, 5, 6]]]"
   ]
  },
  {
   "cell_type": "markdown",
   "id": "7e60184f",
   "metadata": {},
   "source": [
    "### 경사하강법"
   ]
  },
  {
   "cell_type": "code",
   "execution_count": 28,
   "id": "94437b93",
   "metadata": {},
   "outputs": [],
   "source": [
    "import sympy as sym\n",
    "from sympy.abc import x"
   ]
  },
  {
   "cell_type": "code",
   "execution_count": 29,
   "id": "06462e5a",
   "metadata": {},
   "outputs": [
    {
     "data": {
      "text/latex": [
       "$\\displaystyle \\operatorname{Poly}{\\left( 2 x + 2, x, domain=\\mathbb{Z} \\right)}$"
      ],
      "text/plain": [
       "Poly(2*x + 2, x, domain='ZZ')"
      ]
     },
     "execution_count": 29,
     "metadata": {},
     "output_type": "execute_result"
    }
   ],
   "source": [
    "# 미분\n",
    "sym.diff(sym.poly(x**2 + 2*x + 3), x)"
   ]
  },
  {
   "cell_type": "code",
   "execution_count": 31,
   "id": "73dc276b",
   "metadata": {},
   "outputs": [
    {
     "data": {
      "text/latex": [
       "$\\displaystyle 18$"
      ],
      "text/plain": [
       "18"
      ]
     },
     "execution_count": 31,
     "metadata": {},
     "output_type": "execute_result"
    }
   ],
   "source": [
    "# x에 값 넣기\n",
    "sym.poly(x**2 + 2*x + 3).subs(x, 3)"
   ]
  },
  {
   "cell_type": "code",
   "execution_count": 35,
   "id": "3a7cc805",
   "metadata": {},
   "outputs": [],
   "source": [
    "def f(val):\n",
    "    f_ = sym.poly(x**2 + 2*x + 3)\n",
    "    return f_.subs(x, val), f_\n",
    "\n",
    "def f_g(fun, val):\n",
    "    _, f_ = fun(val)\n",
    "    diff = sym.diff(f_, x)\n",
    "    return diff.subs(x, val), diff\n",
    "\n",
    "def gradient_descent(fun, init_p, lr=1e-2, eps=1e-5):\n",
    "    count = 0\n",
    "    val = init_p\n",
    "    diff, _ = f_g(fun, val)\n",
    "    while np.abs(diff) > eps:\n",
    "        val = val - lr * diff\n",
    "        diff, _ = f_g(fun, val)\n",
    "        count += 1\n",
    "        \n",
    "    print('f : {}, cnt: {}, val: {}'.format(fun(val)[1], count, val))"
   ]
  },
  {
   "cell_type": "code",
   "execution_count": 36,
   "id": "293e18bb",
   "metadata": {},
   "outputs": [
    {
     "name": "stdout",
     "output_type": "stream",
     "text": [
      "f : Poly(x**2 + 2*x + 3, x, domain='ZZ'), cnt: 639, val: -0.999995051285912\n"
     ]
    }
   ],
   "source": [
    "gradient_descent(fun=f, init_p = 1)"
   ]
  },
  {
   "cell_type": "code",
   "execution_count": 47,
   "id": "ebceb965",
   "metadata": {},
   "outputs": [],
   "source": [
    "# 편미분\n",
    "from sympy.abc import y\n",
    "\n",
    "def eval(fun, val):\n",
    "    val_x, val_y = val\n",
    "    fun_eval = fun.subs(x, val_x).subs(y, val_y)\n",
    "    return fun_eval\n",
    "\n",
    "def f_mul(val):\n",
    "    _x, _y = val\n",
    "    f_ = sym.poly(x**2 + 2*y**2)\n",
    "    return eval(f_, [_x, _y]), f_\n",
    "\n",
    "def f_g(fun, val):\n",
    "    _x, _y = val\n",
    "    _, f_ = fun(val)\n",
    "    diff_x = sym.diff(f_, x)\n",
    "    diff_y = sym.diff(f_, y)\n",
    "    grad_vec = np.array([eval(diff_x, [_x, _y]), eval(diff_y, [_x, _y])], dtype=float)\n",
    "    return grad_vec, [diff_x, diff_y]\n",
    "\n",
    "def gradient_descent(fun, init_p, lr=1e-2, eps=1e-5):\n",
    "    count = 0\n",
    "    val = init_p\n",
    "    diff, _ = f_g(fun, val)\n",
    "    while np.linalg.norm(diff) > eps:\n",
    "        val = val - lr * diff\n",
    "        diff, _ = f_g(fun, val)\n",
    "        count += 1\n",
    "        \n",
    "    print('f : {}, cnt: {}, val: {}'.format(fun(val)[1], count, val))"
   ]
  },
  {
   "cell_type": "code",
   "execution_count": 48,
   "id": "c5dc3081",
   "metadata": {},
   "outputs": [
    {
     "name": "stdout",
     "output_type": "stream",
     "text": [
      "f : Poly(x**2 + 2*y**2, x, y, domain='ZZ'), cnt: 639, val: [4.94871409e-06 9.38313377e-12]\n"
     ]
    }
   ],
   "source": [
    "pt = [2, 2]\n",
    "gradient_descent(fun=f_mul, init_p = pt)"
   ]
  },
  {
   "cell_type": "markdown",
   "id": "982d243e",
   "metadata": {},
   "source": [
    "### 딥러닝 학습법"
   ]
  },
  {
   "cell_type": "code",
   "execution_count": 49,
   "id": "0c2da677",
   "metadata": {},
   "outputs": [],
   "source": [
    "def softmax(vec):\n",
    "    denumerator = np.exp(vec - np.max(vec, axis=-1, keepdims=True))\n",
    "    numerator = np.sum(denumerator, axis=-1, keepdims=True)\n",
    "    val = denumerator / numerator\n",
    "    return val"
   ]
  },
  {
   "cell_type": "code",
   "execution_count": 50,
   "id": "72cd0cf3",
   "metadata": {},
   "outputs": [
    {
     "data": {
      "text/plain": [
       "array([0.24472847, 0.66524096, 0.09003057])"
      ]
     },
     "execution_count": 50,
     "metadata": {},
     "output_type": "execute_result"
    }
   ],
   "source": [
    "v = np.array([1, 2, 0])\n",
    "softmax(v)"
   ]
  },
  {
   "cell_type": "code",
   "execution_count": null,
   "id": "a491731a",
   "metadata": {},
   "outputs": [],
   "source": []
  }
 ],
 "metadata": {
  "kernelspec": {
   "display_name": "Python 3 (ipykernel)",
   "language": "python",
   "name": "python3"
  },
  "language_info": {
   "codemirror_mode": {
    "name": "ipython",
    "version": 3
   },
   "file_extension": ".py",
   "mimetype": "text/x-python",
   "name": "python",
   "nbconvert_exporter": "python",
   "pygments_lexer": "ipython3",
   "version": "3.8.12"
  },
  "toc": {
   "base_numbering": 1,
   "nav_menu": {},
   "number_sections": true,
   "sideBar": true,
   "skip_h1_title": false,
   "title_cell": "Table of Contents",
   "title_sidebar": "Contents",
   "toc_cell": false,
   "toc_position": {},
   "toc_section_display": true,
   "toc_window_display": false
  }
 },
 "nbformat": 4,
 "nbformat_minor": 5
}
